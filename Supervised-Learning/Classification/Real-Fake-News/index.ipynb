{
 "cells": [
  {
   "cell_type": "markdown",
   "id": "349473e9",
   "metadata": {},
   "source": [
    "# Real-Fake-News"
   ]
  },
  {
   "cell_type": "markdown",
   "id": "c42c29fb",
   "metadata": {},
   "source": [
    "A Labeled News Corpus for Training and Evaluating Fake News Detection Models"
   ]
  },
  {
   "cell_type": "markdown",
   "id": "7b862f50",
   "metadata": {},
   "source": [
    "# I. Business Understanding"
   ]
  },
  {
   "cell_type": "markdown",
   "id": "875d39df",
   "metadata": {},
   "source": [
    "This phase focuses on understanding the objectives and requirements of the project.\n",
    "\n",
    "**Use Cases:**\n",
    "\n",
    "Training NLP models for binary classification (fake vs real)\n",
    "\n",
    "Sentiment and subject analysis of misinformation\n",
    "\n",
    "Exploring linguistic patterns between authentic and deceptive news"
   ]
  },
  {
   "cell_type": "markdown",
   "id": "eaa875cf",
   "metadata": {},
   "source": [
    "# II. Data Understanding"
   ]
  },
  {
   "cell_type": "markdown",
   "id": "bfa19f92",
   "metadata": {},
   "source": [
    "This phase drives the focus to identify, collect, and analyze the data sets that can help you accomplish the project goals. This phase also has four tasks:\n",
    "\n",
    "1. **Collect initial data:** Acquire the necessary data and (if necessary) load it into your analysis tool.\n",
    "2. **Describe data:** Examine the data and document its surface properties like data format, number of records, or field identities.\n",
    "3. **Explore data:** Dig deeper into the data. Query it, visualize it, and identify relationships among the data.\n",
    "4. **Verify data quality:** How clean/dirty is the data? Document any quality issues."
   ]
  },
  {
   "cell_type": "markdown",
   "id": "5fbf634d",
   "metadata": {},
   "source": [
    "### About Dataset\n",
    "Fake News Detection Dataset\n",
    "\n",
    "This dataset is divided into two parts:\n",
    "\n",
    "1. True.csv – Contains 21,417 verified news articles with four key attributes:\n",
    "\n",
    "title: The headline of the article\n",
    "\n",
    "text: The full body of the news article\n",
    "\n",
    "subject: The category or theme (e.g., politics, world news, etc.)\n",
    "\n",
    "date: The date of publication\n",
    "\n",
    "2. Fake.csv – Includes 23,481 fabricated news articles with the same structure and attributes as the True dataset."
   ]
  },
  {
   "cell_type": "code",
   "execution_count": 254,
   "id": "59e65108",
   "metadata": {},
   "outputs": [],
   "source": [
    "# data analysis and manipulation tool\n",
    "import pandas as pd\n",
    "\n",
    "# perform numerical computation\n",
    "import numpy as np\n",
    "\n",
    "# data viz library\n",
    "import matplotlib.pyplot as plt \n",
    "import seaborn as sns"
   ]
  },
  {
   "cell_type": "code",
   "execution_count": 255,
   "id": "64d700b1",
   "metadata": {},
   "outputs": [],
   "source": [
    "# Code below imports all code in the custom_func file\n",
    "from Data.reusable_functions import  *"
   ]
  },
  {
   "cell_type": "markdown",
   "id": "d17496f7",
   "metadata": {},
   "source": [
    "### True.csv review"
   ]
  },
  {
   "cell_type": "code",
   "execution_count": 256,
   "id": "0e7a5e4f",
   "metadata": {},
   "outputs": [
    {
     "data": {
      "text/html": [
       "<div>\n",
       "<style scoped>\n",
       "    .dataframe tbody tr th:only-of-type {\n",
       "        vertical-align: middle;\n",
       "    }\n",
       "\n",
       "    .dataframe tbody tr th {\n",
       "        vertical-align: top;\n",
       "    }\n",
       "\n",
       "    .dataframe thead th {\n",
       "        text-align: right;\n",
       "    }\n",
       "</style>\n",
       "<table border=\"1\" class=\"dataframe\">\n",
       "  <thead>\n",
       "    <tr style=\"text-align: right;\">\n",
       "      <th></th>\n",
       "      <th>title</th>\n",
       "      <th>text</th>\n",
       "      <th>subject</th>\n",
       "      <th>date</th>\n",
       "    </tr>\n",
       "  </thead>\n",
       "  <tbody>\n",
       "    <tr>\n",
       "      <th>0</th>\n",
       "      <td>As U.S. budget fight looms, Republicans flip t...</td>\n",
       "      <td>WASHINGTON (Reuters) - The head of a conservat...</td>\n",
       "      <td>politicsNews</td>\n",
       "      <td>December 31, 2017</td>\n",
       "    </tr>\n",
       "    <tr>\n",
       "      <th>1</th>\n",
       "      <td>U.S. military to accept transgender recruits o...</td>\n",
       "      <td>WASHINGTON (Reuters) - Transgender people will...</td>\n",
       "      <td>politicsNews</td>\n",
       "      <td>December 29, 2017</td>\n",
       "    </tr>\n",
       "    <tr>\n",
       "      <th>2</th>\n",
       "      <td>Senior U.S. Republican senator: 'Let Mr. Muell...</td>\n",
       "      <td>WASHINGTON (Reuters) - The special counsel inv...</td>\n",
       "      <td>politicsNews</td>\n",
       "      <td>December 31, 2017</td>\n",
       "    </tr>\n",
       "    <tr>\n",
       "      <th>3</th>\n",
       "      <td>FBI Russia probe helped by Australian diplomat...</td>\n",
       "      <td>WASHINGTON (Reuters) - Trump campaign adviser ...</td>\n",
       "      <td>politicsNews</td>\n",
       "      <td>December 30, 2017</td>\n",
       "    </tr>\n",
       "    <tr>\n",
       "      <th>4</th>\n",
       "      <td>Trump wants Postal Service to charge 'much mor...</td>\n",
       "      <td>SEATTLE/WASHINGTON (Reuters) - President Donal...</td>\n",
       "      <td>politicsNews</td>\n",
       "      <td>December 29, 2017</td>\n",
       "    </tr>\n",
       "  </tbody>\n",
       "</table>\n",
       "</div>"
      ],
      "text/plain": [
       "                                               title  \\\n",
       "0  As U.S. budget fight looms, Republicans flip t...   \n",
       "1  U.S. military to accept transgender recruits o...   \n",
       "2  Senior U.S. Republican senator: 'Let Mr. Muell...   \n",
       "3  FBI Russia probe helped by Australian diplomat...   \n",
       "4  Trump wants Postal Service to charge 'much mor...   \n",
       "\n",
       "                                                text       subject  \\\n",
       "0  WASHINGTON (Reuters) - The head of a conservat...  politicsNews   \n",
       "1  WASHINGTON (Reuters) - Transgender people will...  politicsNews   \n",
       "2  WASHINGTON (Reuters) - The special counsel inv...  politicsNews   \n",
       "3  WASHINGTON (Reuters) - Trump campaign adviser ...  politicsNews   \n",
       "4  SEATTLE/WASHINGTON (Reuters) - President Donal...  politicsNews   \n",
       "\n",
       "                 date  \n",
       "0  December 31, 2017   \n",
       "1  December 29, 2017   \n",
       "2  December 31, 2017   \n",
       "3  December 30, 2017   \n",
       "4  December 29, 2017   "
      ]
     },
     "execution_count": 256,
     "metadata": {},
     "output_type": "execute_result"
    }
   ],
   "source": [
    "# load the True dataset\n",
    "df_True = pd.read_csv('Data/True.csv')\n",
    "df_True.head()"
   ]
  },
  {
   "cell_type": "code",
   "execution_count": 257,
   "id": "3ac2d72f",
   "metadata": {},
   "outputs": [
    {
     "name": "stdout",
     "output_type": "stream",
     "text": [
      "<class 'pandas.core.frame.DataFrame'>\n",
      "RangeIndex: 21417 entries, 0 to 21416\n",
      "Data columns (total 4 columns):\n",
      " #   Column   Non-Null Count  Dtype \n",
      "---  ------   --------------  ----- \n",
      " 0   title    21417 non-null  object\n",
      " 1   text     21417 non-null  object\n",
      " 2   subject  21417 non-null  object\n",
      " 3   date     21417 non-null  object\n",
      "dtypes: object(4)\n",
      "memory usage: 669.4+ KB\n"
     ]
    }
   ],
   "source": [
    "df_True.info()"
   ]
  },
  {
   "cell_type": "code",
   "execution_count": 258,
   "id": "0b7590d2",
   "metadata": {},
   "outputs": [
    {
     "data": {
      "text/html": [
       "<div>\n",
       "<style scoped>\n",
       "    .dataframe tbody tr th:only-of-type {\n",
       "        vertical-align: middle;\n",
       "    }\n",
       "\n",
       "    .dataframe tbody tr th {\n",
       "        vertical-align: top;\n",
       "    }\n",
       "\n",
       "    .dataframe thead th {\n",
       "        text-align: right;\n",
       "    }\n",
       "</style>\n",
       "<table border=\"1\" class=\"dataframe\">\n",
       "  <thead>\n",
       "    <tr style=\"text-align: right;\">\n",
       "      <th></th>\n",
       "      <th>title</th>\n",
       "      <th>text</th>\n",
       "      <th>subject</th>\n",
       "      <th>date</th>\n",
       "    </tr>\n",
       "  </thead>\n",
       "  <tbody>\n",
       "    <tr>\n",
       "      <th>count</th>\n",
       "      <td>21417</td>\n",
       "      <td>21417</td>\n",
       "      <td>21417</td>\n",
       "      <td>21417</td>\n",
       "    </tr>\n",
       "    <tr>\n",
       "      <th>unique</th>\n",
       "      <td>20826</td>\n",
       "      <td>21192</td>\n",
       "      <td>2</td>\n",
       "      <td>716</td>\n",
       "    </tr>\n",
       "    <tr>\n",
       "      <th>top</th>\n",
       "      <td>Factbox: Trump fills top jobs for his administ...</td>\n",
       "      <td>(Reuters) - Highlights for U.S. President Dona...</td>\n",
       "      <td>politicsNews</td>\n",
       "      <td>December 20, 2017</td>\n",
       "    </tr>\n",
       "    <tr>\n",
       "      <th>freq</th>\n",
       "      <td>14</td>\n",
       "      <td>8</td>\n",
       "      <td>11272</td>\n",
       "      <td>182</td>\n",
       "    </tr>\n",
       "  </tbody>\n",
       "</table>\n",
       "</div>"
      ],
      "text/plain": [
       "                                                    title  \\\n",
       "count                                               21417   \n",
       "unique                                              20826   \n",
       "top     Factbox: Trump fills top jobs for his administ...   \n",
       "freq                                                   14   \n",
       "\n",
       "                                                     text       subject  \\\n",
       "count                                               21417         21417   \n",
       "unique                                              21192             2   \n",
       "top     (Reuters) - Highlights for U.S. President Dona...  politicsNews   \n",
       "freq                                                    8         11272   \n",
       "\n",
       "                      date  \n",
       "count                21417  \n",
       "unique                 716  \n",
       "top     December 20, 2017   \n",
       "freq                   182  "
      ]
     },
     "execution_count": 258,
     "metadata": {},
     "output_type": "execute_result"
    }
   ],
   "source": [
    "df_True.describe()"
   ]
  },
  {
   "cell_type": "code",
   "execution_count": 259,
   "id": "6f57f04a",
   "metadata": {},
   "outputs": [
    {
     "data": {
      "text/plain": [
       "array(['politicsNews', 'worldnews'], dtype=object)"
      ]
     },
     "execution_count": 259,
     "metadata": {},
     "output_type": "execute_result"
    }
   ],
   "source": [
    "# imported function from reusable_functions.py\n",
    "unique_col_items(df_True, 'subject')"
   ]
  },
  {
   "cell_type": "markdown",
   "id": "9ee4be32",
   "metadata": {},
   "source": [
    "### Visualize df_True dataset"
   ]
  },
  {
   "cell_type": "markdown",
   "id": "831853b0",
   "metadata": {},
   "source": [
    "### Fake.csv review"
   ]
  },
  {
   "cell_type": "code",
   "execution_count": 260,
   "id": "1bdb0121",
   "metadata": {},
   "outputs": [
    {
     "data": {
      "text/html": [
       "<div>\n",
       "<style scoped>\n",
       "    .dataframe tbody tr th:only-of-type {\n",
       "        vertical-align: middle;\n",
       "    }\n",
       "\n",
       "    .dataframe tbody tr th {\n",
       "        vertical-align: top;\n",
       "    }\n",
       "\n",
       "    .dataframe thead th {\n",
       "        text-align: right;\n",
       "    }\n",
       "</style>\n",
       "<table border=\"1\" class=\"dataframe\">\n",
       "  <thead>\n",
       "    <tr style=\"text-align: right;\">\n",
       "      <th></th>\n",
       "      <th>title</th>\n",
       "      <th>text</th>\n",
       "      <th>subject</th>\n",
       "      <th>date</th>\n",
       "    </tr>\n",
       "  </thead>\n",
       "  <tbody>\n",
       "    <tr>\n",
       "      <th>0</th>\n",
       "      <td>Donald Trump Sends Out Embarrassing New Year’...</td>\n",
       "      <td>Donald Trump just couldn t wish all Americans ...</td>\n",
       "      <td>News</td>\n",
       "      <td>December 31, 2017</td>\n",
       "    </tr>\n",
       "    <tr>\n",
       "      <th>1</th>\n",
       "      <td>Drunk Bragging Trump Staffer Started Russian ...</td>\n",
       "      <td>House Intelligence Committee Chairman Devin Nu...</td>\n",
       "      <td>News</td>\n",
       "      <td>December 31, 2017</td>\n",
       "    </tr>\n",
       "    <tr>\n",
       "      <th>2</th>\n",
       "      <td>Sheriff David Clarke Becomes An Internet Joke...</td>\n",
       "      <td>On Friday, it was revealed that former Milwauk...</td>\n",
       "      <td>News</td>\n",
       "      <td>December 30, 2017</td>\n",
       "    </tr>\n",
       "    <tr>\n",
       "      <th>3</th>\n",
       "      <td>Trump Is So Obsessed He Even Has Obama’s Name...</td>\n",
       "      <td>On Christmas day, Donald Trump announced that ...</td>\n",
       "      <td>News</td>\n",
       "      <td>December 29, 2017</td>\n",
       "    </tr>\n",
       "    <tr>\n",
       "      <th>4</th>\n",
       "      <td>Pope Francis Just Called Out Donald Trump Dur...</td>\n",
       "      <td>Pope Francis used his annual Christmas Day mes...</td>\n",
       "      <td>News</td>\n",
       "      <td>December 25, 2017</td>\n",
       "    </tr>\n",
       "  </tbody>\n",
       "</table>\n",
       "</div>"
      ],
      "text/plain": [
       "                                               title  \\\n",
       "0   Donald Trump Sends Out Embarrassing New Year’...   \n",
       "1   Drunk Bragging Trump Staffer Started Russian ...   \n",
       "2   Sheriff David Clarke Becomes An Internet Joke...   \n",
       "3   Trump Is So Obsessed He Even Has Obama’s Name...   \n",
       "4   Pope Francis Just Called Out Donald Trump Dur...   \n",
       "\n",
       "                                                text subject  \\\n",
       "0  Donald Trump just couldn t wish all Americans ...    News   \n",
       "1  House Intelligence Committee Chairman Devin Nu...    News   \n",
       "2  On Friday, it was revealed that former Milwauk...    News   \n",
       "3  On Christmas day, Donald Trump announced that ...    News   \n",
       "4  Pope Francis used his annual Christmas Day mes...    News   \n",
       "\n",
       "                date  \n",
       "0  December 31, 2017  \n",
       "1  December 31, 2017  \n",
       "2  December 30, 2017  \n",
       "3  December 29, 2017  \n",
       "4  December 25, 2017  "
      ]
     },
     "execution_count": 260,
     "metadata": {},
     "output_type": "execute_result"
    }
   ],
   "source": [
    "# load the Fake dataset\n",
    "df_Fake = pd.read_csv('Data/Fake.csv')\n",
    "df_Fake.head()"
   ]
  },
  {
   "cell_type": "code",
   "execution_count": 261,
   "id": "70ea2cba",
   "metadata": {},
   "outputs": [
    {
     "data": {
      "text/plain": [
       "array(['News', 'politics', 'Government News', 'left-news', 'US_News',\n",
       "       'Middle-east'], dtype=object)"
      ]
     },
     "execution_count": 261,
     "metadata": {},
     "output_type": "execute_result"
    }
   ],
   "source": [
    "# imported function from reusable_functions.py\n",
    "unique_col_items(df_Fake, 'subject')"
   ]
  },
  {
   "cell_type": "markdown",
   "id": "59fa274f",
   "metadata": {},
   "source": [
    "# III. Data Preparation"
   ]
  },
  {
   "cell_type": "markdown",
   "id": "e0968ea6",
   "metadata": {},
   "source": [
    "This phase, which is often referred to as “data munging”, prepares the final data set(s) for modeling. It has five tasks:\n",
    "\n",
    "1. **Select data:** Determine which data sets will be used and document reasons for inclusion/exclusion.\n",
    "2. **Clean data:** Often this is the lengthiest task. Without it, you’ll likely fall victim to garbage-in, garbage-out. A common practice during this task is to correct, impute, or remove erroneous values.\n",
    "3. **Construct data:** Derive new attributes that will be helpful. For example, derive someone’s body mass index from height and weight fields.\n",
    "4. **Integrate data:** Create new data sets by combining data from multiple sources.\n",
    "5. **Format data:** Re-format data as necessary. For example, you might convert string values that store numbers to numeric values so that you can perform mathematical operations."
   ]
  },
  {
   "cell_type": "markdown",
   "id": "aaf619e9",
   "metadata": {},
   "source": [
    "Create column label in each dataset to indicate whether the news is real or fake. \n",
    "\n",
    "The True.csv will have label 1 and Fake.csv will have label 0."
   ]
  },
  {
   "cell_type": "code",
   "execution_count": 262,
   "id": "f4a5914a",
   "metadata": {},
   "outputs": [],
   "source": [
    "# True news has label 1 \n",
    "df_True['label'] = 1\n",
    "\n",
    "# Fake news has label 0\n",
    "df_Fake['label'] = 0"
   ]
  },
  {
   "cell_type": "code",
   "execution_count": 263,
   "id": "171ed8d6",
   "metadata": {},
   "outputs": [
    {
     "data": {
      "text/html": [
       "<div>\n",
       "<style scoped>\n",
       "    .dataframe tbody tr th:only-of-type {\n",
       "        vertical-align: middle;\n",
       "    }\n",
       "\n",
       "    .dataframe tbody tr th {\n",
       "        vertical-align: top;\n",
       "    }\n",
       "\n",
       "    .dataframe thead th {\n",
       "        text-align: right;\n",
       "    }\n",
       "</style>\n",
       "<table border=\"1\" class=\"dataframe\">\n",
       "  <thead>\n",
       "    <tr style=\"text-align: right;\">\n",
       "      <th></th>\n",
       "      <th>title</th>\n",
       "      <th>text</th>\n",
       "      <th>subject</th>\n",
       "      <th>date</th>\n",
       "      <th>label</th>\n",
       "    </tr>\n",
       "  </thead>\n",
       "  <tbody>\n",
       "    <tr>\n",
       "      <th>0</th>\n",
       "      <td>As U.S. budget fight looms, Republicans flip t...</td>\n",
       "      <td>WASHINGTON (Reuters) - The head of a conservat...</td>\n",
       "      <td>politicsNews</td>\n",
       "      <td>December 31, 2017</td>\n",
       "      <td>1</td>\n",
       "    </tr>\n",
       "    <tr>\n",
       "      <th>1</th>\n",
       "      <td>U.S. military to accept transgender recruits o...</td>\n",
       "      <td>WASHINGTON (Reuters) - Transgender people will...</td>\n",
       "      <td>politicsNews</td>\n",
       "      <td>December 29, 2017</td>\n",
       "      <td>1</td>\n",
       "    </tr>\n",
       "    <tr>\n",
       "      <th>2</th>\n",
       "      <td>Senior U.S. Republican senator: 'Let Mr. Muell...</td>\n",
       "      <td>WASHINGTON (Reuters) - The special counsel inv...</td>\n",
       "      <td>politicsNews</td>\n",
       "      <td>December 31, 2017</td>\n",
       "      <td>1</td>\n",
       "    </tr>\n",
       "    <tr>\n",
       "      <th>3</th>\n",
       "      <td>FBI Russia probe helped by Australian diplomat...</td>\n",
       "      <td>WASHINGTON (Reuters) - Trump campaign adviser ...</td>\n",
       "      <td>politicsNews</td>\n",
       "      <td>December 30, 2017</td>\n",
       "      <td>1</td>\n",
       "    </tr>\n",
       "    <tr>\n",
       "      <th>4</th>\n",
       "      <td>Trump wants Postal Service to charge 'much mor...</td>\n",
       "      <td>SEATTLE/WASHINGTON (Reuters) - President Donal...</td>\n",
       "      <td>politicsNews</td>\n",
       "      <td>December 29, 2017</td>\n",
       "      <td>1</td>\n",
       "    </tr>\n",
       "  </tbody>\n",
       "</table>\n",
       "</div>"
      ],
      "text/plain": [
       "                                               title  \\\n",
       "0  As U.S. budget fight looms, Republicans flip t...   \n",
       "1  U.S. military to accept transgender recruits o...   \n",
       "2  Senior U.S. Republican senator: 'Let Mr. Muell...   \n",
       "3  FBI Russia probe helped by Australian diplomat...   \n",
       "4  Trump wants Postal Service to charge 'much mor...   \n",
       "\n",
       "                                                text       subject  \\\n",
       "0  WASHINGTON (Reuters) - The head of a conservat...  politicsNews   \n",
       "1  WASHINGTON (Reuters) - Transgender people will...  politicsNews   \n",
       "2  WASHINGTON (Reuters) - The special counsel inv...  politicsNews   \n",
       "3  WASHINGTON (Reuters) - Trump campaign adviser ...  politicsNews   \n",
       "4  SEATTLE/WASHINGTON (Reuters) - President Donal...  politicsNews   \n",
       "\n",
       "                 date  label  \n",
       "0  December 31, 2017       1  \n",
       "1  December 29, 2017       1  \n",
       "2  December 31, 2017       1  \n",
       "3  December 30, 2017       1  \n",
       "4  December 29, 2017       1  "
      ]
     },
     "execution_count": 263,
     "metadata": {},
     "output_type": "execute_result"
    }
   ],
   "source": [
    "df_True.head()"
   ]
  },
  {
   "cell_type": "code",
   "execution_count": 264,
   "id": "0955c27a",
   "metadata": {},
   "outputs": [
    {
     "data": {
      "text/html": [
       "<div>\n",
       "<style scoped>\n",
       "    .dataframe tbody tr th:only-of-type {\n",
       "        vertical-align: middle;\n",
       "    }\n",
       "\n",
       "    .dataframe tbody tr th {\n",
       "        vertical-align: top;\n",
       "    }\n",
       "\n",
       "    .dataframe thead th {\n",
       "        text-align: right;\n",
       "    }\n",
       "</style>\n",
       "<table border=\"1\" class=\"dataframe\">\n",
       "  <thead>\n",
       "    <tr style=\"text-align: right;\">\n",
       "      <th></th>\n",
       "      <th>title</th>\n",
       "      <th>text</th>\n",
       "      <th>subject</th>\n",
       "      <th>date</th>\n",
       "      <th>label</th>\n",
       "    </tr>\n",
       "  </thead>\n",
       "  <tbody>\n",
       "    <tr>\n",
       "      <th>0</th>\n",
       "      <td>Donald Trump Sends Out Embarrassing New Year’...</td>\n",
       "      <td>Donald Trump just couldn t wish all Americans ...</td>\n",
       "      <td>News</td>\n",
       "      <td>December 31, 2017</td>\n",
       "      <td>0</td>\n",
       "    </tr>\n",
       "    <tr>\n",
       "      <th>1</th>\n",
       "      <td>Drunk Bragging Trump Staffer Started Russian ...</td>\n",
       "      <td>House Intelligence Committee Chairman Devin Nu...</td>\n",
       "      <td>News</td>\n",
       "      <td>December 31, 2017</td>\n",
       "      <td>0</td>\n",
       "    </tr>\n",
       "    <tr>\n",
       "      <th>2</th>\n",
       "      <td>Sheriff David Clarke Becomes An Internet Joke...</td>\n",
       "      <td>On Friday, it was revealed that former Milwauk...</td>\n",
       "      <td>News</td>\n",
       "      <td>December 30, 2017</td>\n",
       "      <td>0</td>\n",
       "    </tr>\n",
       "    <tr>\n",
       "      <th>3</th>\n",
       "      <td>Trump Is So Obsessed He Even Has Obama’s Name...</td>\n",
       "      <td>On Christmas day, Donald Trump announced that ...</td>\n",
       "      <td>News</td>\n",
       "      <td>December 29, 2017</td>\n",
       "      <td>0</td>\n",
       "    </tr>\n",
       "    <tr>\n",
       "      <th>4</th>\n",
       "      <td>Pope Francis Just Called Out Donald Trump Dur...</td>\n",
       "      <td>Pope Francis used his annual Christmas Day mes...</td>\n",
       "      <td>News</td>\n",
       "      <td>December 25, 2017</td>\n",
       "      <td>0</td>\n",
       "    </tr>\n",
       "  </tbody>\n",
       "</table>\n",
       "</div>"
      ],
      "text/plain": [
       "                                               title  \\\n",
       "0   Donald Trump Sends Out Embarrassing New Year’...   \n",
       "1   Drunk Bragging Trump Staffer Started Russian ...   \n",
       "2   Sheriff David Clarke Becomes An Internet Joke...   \n",
       "3   Trump Is So Obsessed He Even Has Obama’s Name...   \n",
       "4   Pope Francis Just Called Out Donald Trump Dur...   \n",
       "\n",
       "                                                text subject  \\\n",
       "0  Donald Trump just couldn t wish all Americans ...    News   \n",
       "1  House Intelligence Committee Chairman Devin Nu...    News   \n",
       "2  On Friday, it was revealed that former Milwauk...    News   \n",
       "3  On Christmas day, Donald Trump announced that ...    News   \n",
       "4  Pope Francis used his annual Christmas Day mes...    News   \n",
       "\n",
       "                date  label  \n",
       "0  December 31, 2017      0  \n",
       "1  December 31, 2017      0  \n",
       "2  December 30, 2017      0  \n",
       "3  December 29, 2017      0  \n",
       "4  December 25, 2017      0  "
      ]
     },
     "execution_count": 264,
     "metadata": {},
     "output_type": "execute_result"
    }
   ],
   "source": [
    "df_Fake.head()"
   ]
  },
  {
   "cell_type": "code",
   "execution_count": 265,
   "id": "f59fe5a9",
   "metadata": {},
   "outputs": [
    {
     "name": "stdout",
     "output_type": "stream",
     "text": [
      "True news (21417, 5)\n",
      "\n",
      "Fake news (23481, 5)\n"
     ]
    }
   ],
   "source": [
    "print(f'True news {df_True.shape}')\n",
    "print(\"\")\n",
    "print(f'Fake news {df_Fake.shape}')"
   ]
  },
  {
   "cell_type": "markdown",
   "id": "04260658",
   "metadata": {},
   "source": [
    "#### Concatenate both datasets into a single DataFrame."
   ]
  },
  {
   "cell_type": "code",
   "execution_count": 266,
   "id": "7fca7b89",
   "metadata": {},
   "outputs": [],
   "source": [
    "true_fake_df = pd.concat([df_True, df_Fake], ignore_index=True)"
   ]
  },
  {
   "cell_type": "code",
   "execution_count": 267,
   "id": "20c311ad",
   "metadata": {},
   "outputs": [
    {
     "data": {
      "text/html": [
       "<div>\n",
       "<style scoped>\n",
       "    .dataframe tbody tr th:only-of-type {\n",
       "        vertical-align: middle;\n",
       "    }\n",
       "\n",
       "    .dataframe tbody tr th {\n",
       "        vertical-align: top;\n",
       "    }\n",
       "\n",
       "    .dataframe thead th {\n",
       "        text-align: right;\n",
       "    }\n",
       "</style>\n",
       "<table border=\"1\" class=\"dataframe\">\n",
       "  <thead>\n",
       "    <tr style=\"text-align: right;\">\n",
       "      <th></th>\n",
       "      <th>title</th>\n",
       "      <th>text</th>\n",
       "      <th>subject</th>\n",
       "      <th>date</th>\n",
       "      <th>label</th>\n",
       "    </tr>\n",
       "  </thead>\n",
       "  <tbody>\n",
       "    <tr>\n",
       "      <th>0</th>\n",
       "      <td>As U.S. budget fight looms, Republicans flip t...</td>\n",
       "      <td>WASHINGTON (Reuters) - The head of a conservat...</td>\n",
       "      <td>politicsNews</td>\n",
       "      <td>December 31, 2017</td>\n",
       "      <td>1</td>\n",
       "    </tr>\n",
       "    <tr>\n",
       "      <th>1</th>\n",
       "      <td>U.S. military to accept transgender recruits o...</td>\n",
       "      <td>WASHINGTON (Reuters) - Transgender people will...</td>\n",
       "      <td>politicsNews</td>\n",
       "      <td>December 29, 2017</td>\n",
       "      <td>1</td>\n",
       "    </tr>\n",
       "    <tr>\n",
       "      <th>2</th>\n",
       "      <td>Senior U.S. Republican senator: 'Let Mr. Muell...</td>\n",
       "      <td>WASHINGTON (Reuters) - The special counsel inv...</td>\n",
       "      <td>politicsNews</td>\n",
       "      <td>December 31, 2017</td>\n",
       "      <td>1</td>\n",
       "    </tr>\n",
       "    <tr>\n",
       "      <th>3</th>\n",
       "      <td>FBI Russia probe helped by Australian diplomat...</td>\n",
       "      <td>WASHINGTON (Reuters) - Trump campaign adviser ...</td>\n",
       "      <td>politicsNews</td>\n",
       "      <td>December 30, 2017</td>\n",
       "      <td>1</td>\n",
       "    </tr>\n",
       "    <tr>\n",
       "      <th>4</th>\n",
       "      <td>Trump wants Postal Service to charge 'much mor...</td>\n",
       "      <td>SEATTLE/WASHINGTON (Reuters) - President Donal...</td>\n",
       "      <td>politicsNews</td>\n",
       "      <td>December 29, 2017</td>\n",
       "      <td>1</td>\n",
       "    </tr>\n",
       "    <tr>\n",
       "      <th>...</th>\n",
       "      <td>...</td>\n",
       "      <td>...</td>\n",
       "      <td>...</td>\n",
       "      <td>...</td>\n",
       "      <td>...</td>\n",
       "    </tr>\n",
       "    <tr>\n",
       "      <th>44893</th>\n",
       "      <td>McPain: John McCain Furious That Iran Treated ...</td>\n",
       "      <td>21st Century Wire says As 21WIRE reported earl...</td>\n",
       "      <td>Middle-east</td>\n",
       "      <td>January 16, 2016</td>\n",
       "      <td>0</td>\n",
       "    </tr>\n",
       "    <tr>\n",
       "      <th>44894</th>\n",
       "      <td>JUSTICE? Yahoo Settles E-mail Privacy Class-ac...</td>\n",
       "      <td>21st Century Wire says It s a familiar theme. ...</td>\n",
       "      <td>Middle-east</td>\n",
       "      <td>January 16, 2016</td>\n",
       "      <td>0</td>\n",
       "    </tr>\n",
       "    <tr>\n",
       "      <th>44895</th>\n",
       "      <td>Sunnistan: US and Allied ‘Safe Zone’ Plan to T...</td>\n",
       "      <td>Patrick Henningsen  21st Century WireRemember ...</td>\n",
       "      <td>Middle-east</td>\n",
       "      <td>January 15, 2016</td>\n",
       "      <td>0</td>\n",
       "    </tr>\n",
       "    <tr>\n",
       "      <th>44896</th>\n",
       "      <td>How to Blow $700 Million: Al Jazeera America F...</td>\n",
       "      <td>21st Century Wire says Al Jazeera America will...</td>\n",
       "      <td>Middle-east</td>\n",
       "      <td>January 14, 2016</td>\n",
       "      <td>0</td>\n",
       "    </tr>\n",
       "    <tr>\n",
       "      <th>44897</th>\n",
       "      <td>10 U.S. Navy Sailors Held by Iranian Military ...</td>\n",
       "      <td>21st Century Wire says As 21WIRE predicted in ...</td>\n",
       "      <td>Middle-east</td>\n",
       "      <td>January 12, 2016</td>\n",
       "      <td>0</td>\n",
       "    </tr>\n",
       "  </tbody>\n",
       "</table>\n",
       "<p>44898 rows × 5 columns</p>\n",
       "</div>"
      ],
      "text/plain": [
       "                                                   title  \\\n",
       "0      As U.S. budget fight looms, Republicans flip t...   \n",
       "1      U.S. military to accept transgender recruits o...   \n",
       "2      Senior U.S. Republican senator: 'Let Mr. Muell...   \n",
       "3      FBI Russia probe helped by Australian diplomat...   \n",
       "4      Trump wants Postal Service to charge 'much mor...   \n",
       "...                                                  ...   \n",
       "44893  McPain: John McCain Furious That Iran Treated ...   \n",
       "44894  JUSTICE? Yahoo Settles E-mail Privacy Class-ac...   \n",
       "44895  Sunnistan: US and Allied ‘Safe Zone’ Plan to T...   \n",
       "44896  How to Blow $700 Million: Al Jazeera America F...   \n",
       "44897  10 U.S. Navy Sailors Held by Iranian Military ...   \n",
       "\n",
       "                                                    text       subject  \\\n",
       "0      WASHINGTON (Reuters) - The head of a conservat...  politicsNews   \n",
       "1      WASHINGTON (Reuters) - Transgender people will...  politicsNews   \n",
       "2      WASHINGTON (Reuters) - The special counsel inv...  politicsNews   \n",
       "3      WASHINGTON (Reuters) - Trump campaign adviser ...  politicsNews   \n",
       "4      SEATTLE/WASHINGTON (Reuters) - President Donal...  politicsNews   \n",
       "...                                                  ...           ...   \n",
       "44893  21st Century Wire says As 21WIRE reported earl...   Middle-east   \n",
       "44894  21st Century Wire says It s a familiar theme. ...   Middle-east   \n",
       "44895  Patrick Henningsen  21st Century WireRemember ...   Middle-east   \n",
       "44896  21st Century Wire says Al Jazeera America will...   Middle-east   \n",
       "44897  21st Century Wire says As 21WIRE predicted in ...   Middle-east   \n",
       "\n",
       "                     date  label  \n",
       "0      December 31, 2017       1  \n",
       "1      December 29, 2017       1  \n",
       "2      December 31, 2017       1  \n",
       "3      December 30, 2017       1  \n",
       "4      December 29, 2017       1  \n",
       "...                   ...    ...  \n",
       "44893    January 16, 2016      0  \n",
       "44894    January 16, 2016      0  \n",
       "44895    January 15, 2016      0  \n",
       "44896    January 14, 2016      0  \n",
       "44897    January 12, 2016      0  \n",
       "\n",
       "[44898 rows x 5 columns]"
      ]
     },
     "execution_count": 267,
     "metadata": {},
     "output_type": "execute_result"
    }
   ],
   "source": [
    "true_fake_df"
   ]
  },
  {
   "cell_type": "code",
   "execution_count": 268,
   "id": "214a6cfe",
   "metadata": {},
   "outputs": [
    {
     "data": {
      "text/plain": [
       "(44898, 5)"
      ]
     },
     "execution_count": 268,
     "metadata": {},
     "output_type": "execute_result"
    }
   ],
   "source": [
    "true_fake_df.shape"
   ]
  },
  {
   "cell_type": "markdown",
   "id": "fcbab794",
   "metadata": {},
   "source": [
    "### Data Cleaning"
   ]
  },
  {
   "cell_type": "code",
   "execution_count": 269,
   "id": "d4566d3e",
   "metadata": {},
   "outputs": [
    {
     "data": {
      "text/plain": [
       "title      0\n",
       "text       0\n",
       "subject    0\n",
       "date       0\n",
       "label      0\n",
       "dtype: int64"
      ]
     },
     "execution_count": 269,
     "metadata": {},
     "output_type": "execute_result"
    }
   ],
   "source": [
    "#check for null values\n",
    "true_fake_df.isna().sum()"
   ]
  },
  {
   "cell_type": "markdown",
   "id": "df413f9f",
   "metadata": {},
   "source": [
    "Drop unnecessary columns, such as 'date' and 'subject', as they are not needed for the classification task."
   ]
  },
  {
   "cell_type": "code",
   "execution_count": 270,
   "id": "452351c3",
   "metadata": {},
   "outputs": [],
   "source": [
    "true_fake_df = true_fake_df.drop(columns=['date', 'subject'], axis=1)"
   ]
  },
  {
   "cell_type": "code",
   "execution_count": 271,
   "id": "9d351354",
   "metadata": {},
   "outputs": [
    {
     "data": {
      "text/html": [
       "<div>\n",
       "<style scoped>\n",
       "    .dataframe tbody tr th:only-of-type {\n",
       "        vertical-align: middle;\n",
       "    }\n",
       "\n",
       "    .dataframe tbody tr th {\n",
       "        vertical-align: top;\n",
       "    }\n",
       "\n",
       "    .dataframe thead th {\n",
       "        text-align: right;\n",
       "    }\n",
       "</style>\n",
       "<table border=\"1\" class=\"dataframe\">\n",
       "  <thead>\n",
       "    <tr style=\"text-align: right;\">\n",
       "      <th></th>\n",
       "      <th>title</th>\n",
       "      <th>text</th>\n",
       "      <th>label</th>\n",
       "    </tr>\n",
       "  </thead>\n",
       "  <tbody>\n",
       "    <tr>\n",
       "      <th>0</th>\n",
       "      <td>As U.S. budget fight looms, Republicans flip t...</td>\n",
       "      <td>WASHINGTON (Reuters) - The head of a conservat...</td>\n",
       "      <td>1</td>\n",
       "    </tr>\n",
       "    <tr>\n",
       "      <th>1</th>\n",
       "      <td>U.S. military to accept transgender recruits o...</td>\n",
       "      <td>WASHINGTON (Reuters) - Transgender people will...</td>\n",
       "      <td>1</td>\n",
       "    </tr>\n",
       "    <tr>\n",
       "      <th>2</th>\n",
       "      <td>Senior U.S. Republican senator: 'Let Mr. Muell...</td>\n",
       "      <td>WASHINGTON (Reuters) - The special counsel inv...</td>\n",
       "      <td>1</td>\n",
       "    </tr>\n",
       "    <tr>\n",
       "      <th>3</th>\n",
       "      <td>FBI Russia probe helped by Australian diplomat...</td>\n",
       "      <td>WASHINGTON (Reuters) - Trump campaign adviser ...</td>\n",
       "      <td>1</td>\n",
       "    </tr>\n",
       "    <tr>\n",
       "      <th>4</th>\n",
       "      <td>Trump wants Postal Service to charge 'much mor...</td>\n",
       "      <td>SEATTLE/WASHINGTON (Reuters) - President Donal...</td>\n",
       "      <td>1</td>\n",
       "    </tr>\n",
       "  </tbody>\n",
       "</table>\n",
       "</div>"
      ],
      "text/plain": [
       "                                               title  \\\n",
       "0  As U.S. budget fight looms, Republicans flip t...   \n",
       "1  U.S. military to accept transgender recruits o...   \n",
       "2  Senior U.S. Republican senator: 'Let Mr. Muell...   \n",
       "3  FBI Russia probe helped by Australian diplomat...   \n",
       "4  Trump wants Postal Service to charge 'much mor...   \n",
       "\n",
       "                                                text  label  \n",
       "0  WASHINGTON (Reuters) - The head of a conservat...      1  \n",
       "1  WASHINGTON (Reuters) - Transgender people will...      1  \n",
       "2  WASHINGTON (Reuters) - The special counsel inv...      1  \n",
       "3  WASHINGTON (Reuters) - Trump campaign adviser ...      1  \n",
       "4  SEATTLE/WASHINGTON (Reuters) - President Donal...      1  "
      ]
     },
     "execution_count": 271,
     "metadata": {},
     "output_type": "execute_result"
    }
   ],
   "source": [
    "true_fake_df.head()"
   ]
  },
  {
   "cell_type": "markdown",
   "id": "f8982707",
   "metadata": {},
   "source": [
    "Creating a new column 'content' combining title and text"
   ]
  },
  {
   "cell_type": "code",
   "execution_count": 272,
   "id": "e59fc5f0",
   "metadata": {},
   "outputs": [],
   "source": [
    "true_fake_df[\"content\"] = true_fake_df[\"title\"] + \" \" + true_fake_df[\"text\"]"
   ]
  },
  {
   "cell_type": "code",
   "execution_count": 273,
   "id": "21ff7de0",
   "metadata": {},
   "outputs": [
    {
     "data": {
      "text/html": [
       "<div>\n",
       "<style scoped>\n",
       "    .dataframe tbody tr th:only-of-type {\n",
       "        vertical-align: middle;\n",
       "    }\n",
       "\n",
       "    .dataframe tbody tr th {\n",
       "        vertical-align: top;\n",
       "    }\n",
       "\n",
       "    .dataframe thead th {\n",
       "        text-align: right;\n",
       "    }\n",
       "</style>\n",
       "<table border=\"1\" class=\"dataframe\">\n",
       "  <thead>\n",
       "    <tr style=\"text-align: right;\">\n",
       "      <th></th>\n",
       "      <th>title</th>\n",
       "      <th>text</th>\n",
       "      <th>label</th>\n",
       "      <th>content</th>\n",
       "    </tr>\n",
       "  </thead>\n",
       "  <tbody>\n",
       "    <tr>\n",
       "      <th>0</th>\n",
       "      <td>As U.S. budget fight looms, Republicans flip t...</td>\n",
       "      <td>WASHINGTON (Reuters) - The head of a conservat...</td>\n",
       "      <td>1</td>\n",
       "      <td>As U.S. budget fight looms, Republicans flip t...</td>\n",
       "    </tr>\n",
       "    <tr>\n",
       "      <th>1</th>\n",
       "      <td>U.S. military to accept transgender recruits o...</td>\n",
       "      <td>WASHINGTON (Reuters) - Transgender people will...</td>\n",
       "      <td>1</td>\n",
       "      <td>U.S. military to accept transgender recruits o...</td>\n",
       "    </tr>\n",
       "    <tr>\n",
       "      <th>2</th>\n",
       "      <td>Senior U.S. Republican senator: 'Let Mr. Muell...</td>\n",
       "      <td>WASHINGTON (Reuters) - The special counsel inv...</td>\n",
       "      <td>1</td>\n",
       "      <td>Senior U.S. Republican senator: 'Let Mr. Muell...</td>\n",
       "    </tr>\n",
       "    <tr>\n",
       "      <th>3</th>\n",
       "      <td>FBI Russia probe helped by Australian diplomat...</td>\n",
       "      <td>WASHINGTON (Reuters) - Trump campaign adviser ...</td>\n",
       "      <td>1</td>\n",
       "      <td>FBI Russia probe helped by Australian diplomat...</td>\n",
       "    </tr>\n",
       "    <tr>\n",
       "      <th>4</th>\n",
       "      <td>Trump wants Postal Service to charge 'much mor...</td>\n",
       "      <td>SEATTLE/WASHINGTON (Reuters) - President Donal...</td>\n",
       "      <td>1</td>\n",
       "      <td>Trump wants Postal Service to charge 'much mor...</td>\n",
       "    </tr>\n",
       "  </tbody>\n",
       "</table>\n",
       "</div>"
      ],
      "text/plain": [
       "                                               title  \\\n",
       "0  As U.S. budget fight looms, Republicans flip t...   \n",
       "1  U.S. military to accept transgender recruits o...   \n",
       "2  Senior U.S. Republican senator: 'Let Mr. Muell...   \n",
       "3  FBI Russia probe helped by Australian diplomat...   \n",
       "4  Trump wants Postal Service to charge 'much mor...   \n",
       "\n",
       "                                                text  label  \\\n",
       "0  WASHINGTON (Reuters) - The head of a conservat...      1   \n",
       "1  WASHINGTON (Reuters) - Transgender people will...      1   \n",
       "2  WASHINGTON (Reuters) - The special counsel inv...      1   \n",
       "3  WASHINGTON (Reuters) - Trump campaign adviser ...      1   \n",
       "4  SEATTLE/WASHINGTON (Reuters) - President Donal...      1   \n",
       "\n",
       "                                             content  \n",
       "0  As U.S. budget fight looms, Republicans flip t...  \n",
       "1  U.S. military to accept transgender recruits o...  \n",
       "2  Senior U.S. Republican senator: 'Let Mr. Muell...  \n",
       "3  FBI Russia probe helped by Australian diplomat...  \n",
       "4  Trump wants Postal Service to charge 'much mor...  "
      ]
     },
     "execution_count": 273,
     "metadata": {},
     "output_type": "execute_result"
    }
   ],
   "source": [
    "true_fake_df.head()"
   ]
  },
  {
   "cell_type": "markdown",
   "id": "a36e0dcd",
   "metadata": {},
   "source": [
    "Final Columns to be used for classification:"
   ]
  },
  {
   "cell_type": "code",
   "execution_count": 274,
   "id": "225f9a80",
   "metadata": {},
   "outputs": [],
   "source": [
    "final_true_fake_df = true_fake_df[[\"content\", \"label\"]]"
   ]
  },
  {
   "cell_type": "code",
   "execution_count": 275,
   "id": "490200d1",
   "metadata": {},
   "outputs": [
    {
     "data": {
      "text/html": [
       "<div>\n",
       "<style scoped>\n",
       "    .dataframe tbody tr th:only-of-type {\n",
       "        vertical-align: middle;\n",
       "    }\n",
       "\n",
       "    .dataframe tbody tr th {\n",
       "        vertical-align: top;\n",
       "    }\n",
       "\n",
       "    .dataframe thead th {\n",
       "        text-align: right;\n",
       "    }\n",
       "</style>\n",
       "<table border=\"1\" class=\"dataframe\">\n",
       "  <thead>\n",
       "    <tr style=\"text-align: right;\">\n",
       "      <th></th>\n",
       "      <th>content</th>\n",
       "      <th>label</th>\n",
       "    </tr>\n",
       "  </thead>\n",
       "  <tbody>\n",
       "    <tr>\n",
       "      <th>0</th>\n",
       "      <td>As U.S. budget fight looms, Republicans flip t...</td>\n",
       "      <td>1</td>\n",
       "    </tr>\n",
       "    <tr>\n",
       "      <th>1</th>\n",
       "      <td>U.S. military to accept transgender recruits o...</td>\n",
       "      <td>1</td>\n",
       "    </tr>\n",
       "    <tr>\n",
       "      <th>2</th>\n",
       "      <td>Senior U.S. Republican senator: 'Let Mr. Muell...</td>\n",
       "      <td>1</td>\n",
       "    </tr>\n",
       "    <tr>\n",
       "      <th>3</th>\n",
       "      <td>FBI Russia probe helped by Australian diplomat...</td>\n",
       "      <td>1</td>\n",
       "    </tr>\n",
       "    <tr>\n",
       "      <th>4</th>\n",
       "      <td>Trump wants Postal Service to charge 'much mor...</td>\n",
       "      <td>1</td>\n",
       "    </tr>\n",
       "    <tr>\n",
       "      <th>...</th>\n",
       "      <td>...</td>\n",
       "      <td>...</td>\n",
       "    </tr>\n",
       "    <tr>\n",
       "      <th>44893</th>\n",
       "      <td>McPain: John McCain Furious That Iran Treated ...</td>\n",
       "      <td>0</td>\n",
       "    </tr>\n",
       "    <tr>\n",
       "      <th>44894</th>\n",
       "      <td>JUSTICE? Yahoo Settles E-mail Privacy Class-ac...</td>\n",
       "      <td>0</td>\n",
       "    </tr>\n",
       "    <tr>\n",
       "      <th>44895</th>\n",
       "      <td>Sunnistan: US and Allied ‘Safe Zone’ Plan to T...</td>\n",
       "      <td>0</td>\n",
       "    </tr>\n",
       "    <tr>\n",
       "      <th>44896</th>\n",
       "      <td>How to Blow $700 Million: Al Jazeera America F...</td>\n",
       "      <td>0</td>\n",
       "    </tr>\n",
       "    <tr>\n",
       "      <th>44897</th>\n",
       "      <td>10 U.S. Navy Sailors Held by Iranian Military ...</td>\n",
       "      <td>0</td>\n",
       "    </tr>\n",
       "  </tbody>\n",
       "</table>\n",
       "<p>44898 rows × 2 columns</p>\n",
       "</div>"
      ],
      "text/plain": [
       "                                                 content  label\n",
       "0      As U.S. budget fight looms, Republicans flip t...      1\n",
       "1      U.S. military to accept transgender recruits o...      1\n",
       "2      Senior U.S. Republican senator: 'Let Mr. Muell...      1\n",
       "3      FBI Russia probe helped by Australian diplomat...      1\n",
       "4      Trump wants Postal Service to charge 'much mor...      1\n",
       "...                                                  ...    ...\n",
       "44893  McPain: John McCain Furious That Iran Treated ...      0\n",
       "44894  JUSTICE? Yahoo Settles E-mail Privacy Class-ac...      0\n",
       "44895  Sunnistan: US and Allied ‘Safe Zone’ Plan to T...      0\n",
       "44896  How to Blow $700 Million: Al Jazeera America F...      0\n",
       "44897  10 U.S. Navy Sailors Held by Iranian Military ...      0\n",
       "\n",
       "[44898 rows x 2 columns]"
      ]
     },
     "execution_count": 275,
     "metadata": {},
     "output_type": "execute_result"
    }
   ],
   "source": [
    "final_true_fake_df"
   ]
  },
  {
   "cell_type": "markdown",
   "id": "55fd1f82",
   "metadata": {},
   "source": [
    "### Shuffle the DataFrame"
   ]
  },
  {
   "cell_type": "markdown",
   "id": "db3c2938",
   "metadata": {},
   "source": [
    "1. Preventing Bias:\n",
    "\n",
    "If the data is ordered in a specific way (e.g., by class label, time, or feature value), splitting it into training and test sets without shuffling can lead to biased sets. For example, the training set might contain only examples from one class, while the test set contains examples from another class. This can result in poor model performance and generalization.\n",
    "Shuffling ensures that the training and test sets are representative of the overall data distribution, reducing the risk of overfitting to a specific order or pattern.\n",
    "\n",
    "2. Improving Model Generalization:\n",
    "\n",
    "Models trained on non-shuffled data might learn artificial patterns related to the data's inherent order rather than the underlying relationships between features and target variables.\n",
    "Shuffling encourages the model to learn more robust and generalizable patterns, improving its ability to perform well on unseen data.\n",
    "\n",
    "3. Ensuring Reliable Cross-Validation:\n",
    "\n",
    "In cross-validation, the data is split into multiple folds. Without shuffling, some folds might be unrepresentative of the overall dataset, leading to unreliable cross-validation results.\n",
    "Shuffling ensures that each fold contains a mix of different data points, providing a more accurate estimate of the model's performance.\n",
    "\n",
    "4. Enhancing Gradient Descent:\n",
    "\n",
    "When training neural networks with mini-batches, shuffling helps ensure that each mini-batch is representative of the overall data distribution. This leads to more stable and efficient gradient updates.\n",
    "Without shuffling, the network might learn to predict the sequence of data points rather than the actual relationships between features and targets.\n",
    "\n",
    "5. Reproducibility:\n",
    "\n",
    "Shuffling ensures that any observed patterns are not due to data order and that results are reproducible.\n",
    "\n",
    "**In summary, shuffling a dataframe before modeling helps prevent bias, improve model generalization, and ensure reliable evaluation. It is a crucial step in preparing data for machine learning tasks.**"
   ]
  },
  {
   "cell_type": "code",
   "execution_count": 276,
   "id": "9799b13f",
   "metadata": {},
   "outputs": [],
   "source": [
    "final_true_fake_df = final_true_fake_df.sample(frac=1, random_state=537).reset_index(drop=True)"
   ]
  },
  {
   "cell_type": "code",
   "execution_count": 277,
   "id": "9a421814",
   "metadata": {},
   "outputs": [
    {
     "data": {
      "text/html": [
       "<div>\n",
       "<style scoped>\n",
       "    .dataframe tbody tr th:only-of-type {\n",
       "        vertical-align: middle;\n",
       "    }\n",
       "\n",
       "    .dataframe tbody tr th {\n",
       "        vertical-align: top;\n",
       "    }\n",
       "\n",
       "    .dataframe thead th {\n",
       "        text-align: right;\n",
       "    }\n",
       "</style>\n",
       "<table border=\"1\" class=\"dataframe\">\n",
       "  <thead>\n",
       "    <tr style=\"text-align: right;\">\n",
       "      <th></th>\n",
       "      <th>content</th>\n",
       "      <th>label</th>\n",
       "    </tr>\n",
       "  </thead>\n",
       "  <tbody>\n",
       "    <tr>\n",
       "      <th>0</th>\n",
       "      <td>Figures show Trump spent $66 million of his ow...</td>\n",
       "      <td>1</td>\n",
       "    </tr>\n",
       "    <tr>\n",
       "      <th>1</th>\n",
       "      <td>Trump raises about $90 million in August  WASH...</td>\n",
       "      <td>1</td>\n",
       "    </tr>\n",
       "    <tr>\n",
       "      <th>2</th>\n",
       "      <td>Iran's Soleimani arrives in Kurdish region for...</td>\n",
       "      <td>1</td>\n",
       "    </tr>\n",
       "    <tr>\n",
       "      <th>3</th>\n",
       "      <td>Putin Declares Syria A “No Fly Zone”…While Oba...</td>\n",
       "      <td>0</td>\n",
       "    </tr>\n",
       "    <tr>\n",
       "      <th>4</th>\n",
       "      <td>Remember Trump’s Biggest Campaign Promise? Ye...</td>\n",
       "      <td>0</td>\n",
       "    </tr>\n",
       "    <tr>\n",
       "      <th>...</th>\n",
       "      <td>...</td>\n",
       "      <td>...</td>\n",
       "    </tr>\n",
       "    <tr>\n",
       "      <th>44893</th>\n",
       "      <td>Low-Income Renters Lose Their Homes To Rich P...</td>\n",
       "      <td>0</td>\n",
       "    </tr>\n",
       "    <tr>\n",
       "      <th>44894</th>\n",
       "      <td>WATCH: DID JOHNNY DEPP Just Make A Career-Endi...</td>\n",
       "      <td>0</td>\n",
       "    </tr>\n",
       "    <tr>\n",
       "      <th>44895</th>\n",
       "      <td>#TREXIT: SWING STATE APOCALYPSE…Democrats LEAV...</td>\n",
       "      <td>0</td>\n",
       "    </tr>\n",
       "    <tr>\n",
       "      <th>44896</th>\n",
       "      <td>Turkey's Erdogan blames U.S. envoy for diploma...</td>\n",
       "      <td>1</td>\n",
       "    </tr>\n",
       "    <tr>\n",
       "      <th>44897</th>\n",
       "      <td>NY mayor criticizes Trump's closing public atr...</td>\n",
       "      <td>1</td>\n",
       "    </tr>\n",
       "  </tbody>\n",
       "</table>\n",
       "<p>44898 rows × 2 columns</p>\n",
       "</div>"
      ],
      "text/plain": [
       "                                                 content  label\n",
       "0      Figures show Trump spent $66 million of his ow...      1\n",
       "1      Trump raises about $90 million in August  WASH...      1\n",
       "2      Iran's Soleimani arrives in Kurdish region for...      1\n",
       "3      Putin Declares Syria A “No Fly Zone”…While Oba...      0\n",
       "4       Remember Trump’s Biggest Campaign Promise? Ye...      0\n",
       "...                                                  ...    ...\n",
       "44893   Low-Income Renters Lose Their Homes To Rich P...      0\n",
       "44894  WATCH: DID JOHNNY DEPP Just Make A Career-Endi...      0\n",
       "44895  #TREXIT: SWING STATE APOCALYPSE…Democrats LEAV...      0\n",
       "44896  Turkey's Erdogan blames U.S. envoy for diploma...      1\n",
       "44897  NY mayor criticizes Trump's closing public atr...      1\n",
       "\n",
       "[44898 rows x 2 columns]"
      ]
     },
     "execution_count": 277,
     "metadata": {},
     "output_type": "execute_result"
    }
   ],
   "source": [
    "final_true_fake_df"
   ]
  },
  {
   "cell_type": "code",
   "execution_count": 278,
   "id": "80b174fd",
   "metadata": {},
   "outputs": [
    {
     "name": "stdout",
     "output_type": "stream",
     "text": [
      "<class 'pandas.core.frame.DataFrame'>\n",
      "RangeIndex: 44898 entries, 0 to 44897\n",
      "Data columns (total 2 columns):\n",
      " #   Column   Non-Null Count  Dtype \n",
      "---  ------   --------------  ----- \n",
      " 0   content  44898 non-null  object\n",
      " 1   label    44898 non-null  int64 \n",
      "dtypes: int64(1), object(1)\n",
      "memory usage: 701.7+ KB\n"
     ]
    }
   ],
   "source": [
    "final_true_fake_df.info()"
   ]
  },
  {
   "cell_type": "code",
   "execution_count": 279,
   "id": "e52ffe8c",
   "metadata": {},
   "outputs": [
    {
     "data": {
      "text/plain": [
       "content    0\n",
       "label      0\n",
       "dtype: int64"
      ]
     },
     "execution_count": 279,
     "metadata": {},
     "output_type": "execute_result"
    }
   ],
   "source": [
    "final_true_fake_df.isnull().sum()"
   ]
  },
  {
   "cell_type": "markdown",
   "id": "58e72143",
   "metadata": {},
   "source": [
    "### Text Cleaning"
   ]
  },
  {
   "cell_type": "code",
   "execution_count": 280,
   "id": "65777ec5",
   "metadata": {},
   "outputs": [],
   "source": [
    "# Import relevant Libraries\n",
    "\n",
    "import re\n",
    "\n",
    "import contractions\n",
    "from textblob import TextBlob\n",
    "\n",
    "import nltk\n",
    "from nltk.corpus import stopwords\n",
    "from nltk.corpus import wordnet\n",
    "from nltk.stem import WordNetLemmatizer\n",
    "\n",
    "# Download NLTK resources\n",
    "# nltk.download('stopwords')\n",
    "# nltk.download('wordnet')\n",
    "\n",
    "# nltk.download('averaged_perceptron_tagger')\n",
    "# nltk.download('punkt')"
   ]
  },
  {
   "cell_type": "code",
   "execution_count": 281,
   "id": "4f67a502",
   "metadata": {},
   "outputs": [],
   "source": [
    "# stopwords\n",
    "stop_words = set(stopwords.words(\"english\"))\n",
    "\n",
    "# WordNet lemmatizer\n",
    "lemmatizer = WordNetLemmatizer()"
   ]
  },
  {
   "cell_type": "code",
   "execution_count": 282,
   "id": "9df0899a",
   "metadata": {},
   "outputs": [],
   "source": [
    "# Function to clean and preprocess the text\n",
    "def preprocess_text(text) -> str:\n",
    "\n",
    "    # Step 1: Lowercase\n",
    "    text = text.lower()\n",
    "\n",
    "    # Step 2: Remove mentions\n",
    "    text = re.sub(r'rt @\\w+: | @\\w+: | @\\w+ | @ \\w+', '', text)\n",
    "\n",
    "    # Step 3: Expand contractions\n",
    "    text = contractions.fix(text)\n",
    "\n",
    "    # remove stop words\n",
    "    text = ' '.join([word for word in text.split() if word not in stop_words])\n",
    "\n",
    "    # Step 4: Remove html tags\n",
    "    text = re.sub(r'<.*?>', '', text)\n",
    "\n",
    "    # Step 5: Remove ellipses and unnecessary spaces\n",
    "    text = re.sub(r'\\.{2,}', ' ', text)  # Replace multiple dots with a single space \n",
    "    text = re.sub(r'\\s+', ' ', text).strip()  # Remove extra whitespace\n",
    "\n",
    "    # Step 6: Remove special characters (keeping only letters and spaces)\n",
    "    text = re.sub(r'[^a-zA-Z\\s]', '', text)\n",
    "\n",
    "    # Step 7: Remove HTML links\n",
    "    text = re.sub(r'http\\S+|www\\S+', '', text)\n",
    "\n",
    "    # Step 8: Replace elongated words (e.g., \"sooooo\" -> \"so\")\n",
    "    text = re.sub(r'(\\w+?)\\1{2,}', r'\\1\\1', text)  # Replace any character repeated more than twice\n",
    "\n",
    "    # Step 9: Remove possessives (e.g., \"ann's\" -> \"ann\")\n",
    "    text = re.sub(r\"\\b(\\w+)'s\\b\", r'\\1', text)\n",
    "\n",
    "    # Step 10: Tokenize\n",
    "    words = nltk.word_tokenize(text)\n",
    "\n",
    "    # Step 11: Remove stopwords and lemmatize\n",
    "    words = [lemmatizer.lemmatize(word) for word in words if word not in stop_words and word.isalpha()]\n",
    "    return \" \".join(words)"
   ]
  },
  {
   "cell_type": "code",
   "execution_count": 283,
   "id": "e1fa05cb",
   "metadata": {},
   "outputs": [
    {
     "name": "stdout",
     "output_type": "stream",
     "text": [
      "figure show trump spent million ow\n"
     ]
    }
   ],
   "source": [
    "# Example usage\n",
    "text = \"Figures show Trump spent $66 million of his ow...\"\n",
    "cleaned_text = preprocess_text(text)\n",
    "print(cleaned_text)"
   ]
  },
  {
   "cell_type": "code",
   "execution_count": 284,
   "id": "f8590544",
   "metadata": {},
   "outputs": [],
   "source": [
    "# Apply the preprocessing function to the 'content' column\n",
    "final_true_fake_df['content'] = final_true_fake_df['content'].apply(preprocess_text)"
   ]
  },
  {
   "cell_type": "code",
   "execution_count": 285,
   "id": "582aaed3",
   "metadata": {},
   "outputs": [
    {
     "data": {
      "text/html": [
       "<div>\n",
       "<style scoped>\n",
       "    .dataframe tbody tr th:only-of-type {\n",
       "        vertical-align: middle;\n",
       "    }\n",
       "\n",
       "    .dataframe tbody tr th {\n",
       "        vertical-align: top;\n",
       "    }\n",
       "\n",
       "    .dataframe thead th {\n",
       "        text-align: right;\n",
       "    }\n",
       "</style>\n",
       "<table border=\"1\" class=\"dataframe\">\n",
       "  <thead>\n",
       "    <tr style=\"text-align: right;\">\n",
       "      <th></th>\n",
       "      <th>content</th>\n",
       "      <th>label</th>\n",
       "    </tr>\n",
       "  </thead>\n",
       "  <tbody>\n",
       "    <tr>\n",
       "      <th>0</th>\n",
       "      <td>figure show trump spent million cash election ...</td>\n",
       "      <td>1</td>\n",
       "    </tr>\n",
       "    <tr>\n",
       "      <th>1</th>\n",
       "      <td>trump raise million august washington reuters ...</td>\n",
       "      <td>1</td>\n",
       "    </tr>\n",
       "    <tr>\n",
       "      <th>2</th>\n",
       "      <td>iran soleimani arrives kurdish region talk cri...</td>\n",
       "      <td>1</td>\n",
       "    </tr>\n",
       "    <tr>\n",
       "      <th>3</th>\n",
       "      <td>putin declares syria fly zonewhile obama laser...</td>\n",
       "      <td>0</td>\n",
       "    </tr>\n",
       "    <tr>\n",
       "      <th>4</th>\n",
       "      <td>remember trump biggest campaign promise yeah w...</td>\n",
       "      <td>0</td>\n",
       "    </tr>\n",
       "    <tr>\n",
       "      <th>...</th>\n",
       "      <td>...</td>\n",
       "      <td>...</td>\n",
       "    </tr>\n",
       "    <tr>\n",
       "      <th>44893</th>\n",
       "      <td>lowincome renter lose home rich people neighbo...</td>\n",
       "      <td>0</td>\n",
       "    </tr>\n",
       "    <tr>\n",
       "      <th>44894</th>\n",
       "      <td>watch johnny depp make careerending joke assas...</td>\n",
       "      <td>0</td>\n",
       "    </tr>\n",
       "    <tr>\n",
       "      <th>44895</th>\n",
       "      <td>trexit swing state apocalypsedemocrats leave p...</td>\n",
       "      <td>0</td>\n",
       "    </tr>\n",
       "    <tr>\n",
       "      <th>44896</th>\n",
       "      <td>turkey erdogan blame yous envoy diplomatic cri...</td>\n",
       "      <td>1</td>\n",
       "    </tr>\n",
       "    <tr>\n",
       "      <th>44897</th>\n",
       "      <td>ny mayor criticizes trump closing public atriu...</td>\n",
       "      <td>1</td>\n",
       "    </tr>\n",
       "  </tbody>\n",
       "</table>\n",
       "<p>44898 rows × 2 columns</p>\n",
       "</div>"
      ],
      "text/plain": [
       "                                                 content  label\n",
       "0      figure show trump spent million cash election ...      1\n",
       "1      trump raise million august washington reuters ...      1\n",
       "2      iran soleimani arrives kurdish region talk cri...      1\n",
       "3      putin declares syria fly zonewhile obama laser...      0\n",
       "4      remember trump biggest campaign promise yeah w...      0\n",
       "...                                                  ...    ...\n",
       "44893  lowincome renter lose home rich people neighbo...      0\n",
       "44894  watch johnny depp make careerending joke assas...      0\n",
       "44895  trexit swing state apocalypsedemocrats leave p...      0\n",
       "44896  turkey erdogan blame yous envoy diplomatic cri...      1\n",
       "44897  ny mayor criticizes trump closing public atriu...      1\n",
       "\n",
       "[44898 rows x 2 columns]"
      ]
     },
     "execution_count": 285,
     "metadata": {},
     "output_type": "execute_result"
    }
   ],
   "source": [
    "final_true_fake_df"
   ]
  },
  {
   "cell_type": "markdown",
   "id": "b4e38b63",
   "metadata": {},
   "source": [
    "#### Distribution of News Length"
   ]
  },
  {
   "cell_type": "code",
   "execution_count": 286,
   "id": "b7d76b86",
   "metadata": {},
   "outputs": [],
   "source": [
    "final_true_fake_df[\"text_length\"] = final_true_fake_df[\"content\"].apply(lambda x: len(x.split()))"
   ]
  },
  {
   "cell_type": "code",
   "execution_count": 287,
   "id": "53f7db86",
   "metadata": {},
   "outputs": [
    {
     "data": {
      "text/plain": [
       "count    44898.000000\n",
       "mean       237.359504\n",
       "std        198.878080\n",
       "min          0.000000\n",
       "25%        125.000000\n",
       "50%        210.000000\n",
       "75%        295.000000\n",
       "max       4853.000000\n",
       "Name: text_length, dtype: float64"
      ]
     },
     "execution_count": 287,
     "metadata": {},
     "output_type": "execute_result"
    }
   ],
   "source": [
    "final_true_fake_df[\"text_length\"].describe()"
   ]
  },
  {
   "cell_type": "markdown",
   "id": "64ce00f3",
   "metadata": {},
   "source": [
    "### Train-Test Split"
   ]
  },
  {
   "cell_type": "code",
   "execution_count": 288,
   "id": "a80fa4b8",
   "metadata": {},
   "outputs": [],
   "source": [
    "#Import relevant library\n",
    "\n",
    "from sklearn.model_selection import train_test_split"
   ]
  },
  {
   "cell_type": "code",
   "execution_count": 289,
   "id": "92691058",
   "metadata": {},
   "outputs": [
    {
     "name": "stdout",
     "output_type": "stream",
     "text": [
      "Training set shape: (35918,)\n",
      "---------------------------\n",
      "Testing set shape: (8980,)\n"
     ]
    }
   ],
   "source": [
    "# Train-Test Split\n",
    "\n",
    "X = final_true_fake_df['content'] # Features\n",
    "y = final_true_fake_df['label']  # Target variable\n",
    "\n",
    "# Split the data into training and testing sets\n",
    "X_train, X_test, y_train, y_test = train_test_split(X, y, test_size=0.2, random_state=42, stratify=y)\n",
    "\n",
    "# Check the shape of the resulting datasets\n",
    "print(\"Training set shape:\", X_train.shape)\n",
    "\n",
    "print(\"---------------------------\")\n",
    "\n",
    "print(\"Testing set shape:\", X_test.shape)"
   ]
  },
  {
   "cell_type": "code",
   "execution_count": 290,
   "id": "aaac4e99",
   "metadata": {},
   "outputs": [
    {
     "data": {
      "text/plain": [
       "29518    obama delay spain visit government formed fore...\n",
       "14421    peter thiel tell republican convention proud g...\n",
       "34984    gop chairman declared war trump tweet leading ...\n",
       "3890     lebanon hariri take critical line hezbollah be...\n",
       "19062    tunisian labor union say jerusalem decision de...\n",
       "Name: content, dtype: object"
      ]
     },
     "execution_count": 290,
     "metadata": {},
     "output_type": "execute_result"
    }
   ],
   "source": [
    "X_train.head()  "
   ]
  },
  {
   "cell_type": "code",
   "execution_count": 291,
   "id": "d7bef60a",
   "metadata": {},
   "outputs": [
    {
     "data": {
      "text/plain": [
       "14757    month trial north korean mastermind behind kim...\n",
       "7798     turkey take stronger step response iraqi kurdi...\n",
       "16838    veteran send loser trump brutal message keep d...\n",
       "29352    yous interior secretary raised political fund ...\n",
       "44887    plane crash russia far east kill six report mo...\n",
       "Name: content, dtype: object"
      ]
     },
     "execution_count": 291,
     "metadata": {},
     "output_type": "execute_result"
    }
   ],
   "source": [
    "X_test.head()"
   ]
  },
  {
   "cell_type": "markdown",
   "id": "c627e8f5",
   "metadata": {},
   "source": [
    "### Feature Extraction\n",
    "\n",
    "Transforming arbitrary data, such as text or images, into numerical features usable for machine learning."
   ]
  },
  {
   "cell_type": "code",
   "execution_count": 292,
   "id": "9bde5d91",
   "metadata": {},
   "outputs": [],
   "source": [
    "# Import relevant library for text vectorization\n",
    "\n",
    "from sklearn.feature_extraction.text import TfidfVectorizer"
   ]
  },
  {
   "cell_type": "code",
   "execution_count": 293,
   "id": "2e69afbf",
   "metadata": {},
   "outputs": [],
   "source": [
    "# Create a TfidfVectorizer instance\n",
    "# This will convert the text data into TF-IDF features\n",
    "vectorizer = TfidfVectorizer(max_features=5000, ngram_range=(1,2)) \n",
    "\n",
    "# Note: Use X_train for fitting and X_test for transforming\n",
    "\n",
    "# Fit and transform the training data\n",
    "X_train_vector = vectorizer.fit_transform(X_train)\n",
    "\n",
    "# transform the test data\n",
    "X_test_vector = vectorizer.transform(X_test)"
   ]
  },
  {
   "cell_type": "code",
   "execution_count": 294,
   "id": "8f3c46ef",
   "metadata": {},
   "outputs": [
    {
     "data": {
      "text/plain": [
       "(35918, 5000)"
      ]
     },
     "execution_count": 294,
     "metadata": {},
     "output_type": "execute_result"
    }
   ],
   "source": [
    "X_train_vector.shape"
   ]
  },
  {
   "cell_type": "markdown",
   "id": "e2738b35",
   "metadata": {},
   "source": [
    "# IV. Modeling"
   ]
  },
  {
   "cell_type": "markdown",
   "id": "e86e8eb7",
   "metadata": {},
   "source": [
    "What is widely regarded as data science’s most exciting work is also often the shortest phase of the project. Here you’ll likely build and assess various models based on several different modeling techniques. This phase has four tasks:\n",
    "\n",
    "1. **Select modeling techniques:** Determine which algorithms to try (e.g. regression, neural net).\n",
    "2. **Generate test design:** Pending your modeling approach, you might need to split the data into training, test, and validation sets.\n",
    "3. **Build model:** As glamorous as this might sound, this might just be executing a few lines of code like “reg = LinearRegression().fit(X, y)”.\n",
    "4. **Assess model:** Generally, multiple models are competing against each other, and the data scientist needs to interpret the model results based on domain knowledge, the pre-defined success criteria, and the test design."
   ]
  },
  {
   "cell_type": "markdown",
   "id": "2bc92c07",
   "metadata": {},
   "source": [
    "Pick ML models to train on the dataset."
   ]
  },
  {
   "cell_type": "code",
   "execution_count": 295,
   "id": "02a343a5",
   "metadata": {},
   "outputs": [],
   "source": [
    "# Import relevant library for classification\n",
    "from sklearn.naive_bayes import MultinomialNB   \n",
    "from sklearn.linear_model import LogisticRegression\n",
    "from sklearn.svm import LinearSVC\n",
    "from sklearn.ensemble import RandomForestClassifier"
   ]
  },
  {
   "cell_type": "code",
   "execution_count": 296,
   "id": "08c83ec0",
   "metadata": {},
   "outputs": [],
   "source": [
    "# Dictionary of ML models\n",
    "\n",
    "models = {\n",
    "    \"Logistic Regression\": LogisticRegression(max_iter=1000),\n",
    "    \"Naive Bayes\": MultinomialNB(),\n",
    "    \"SVM\": LinearSVC(),\n",
    "    \"Random Forest\": RandomForestClassifier(n_estimators=100, random_state=42)\n",
    "}"
   ]
  },
  {
   "cell_type": "markdown",
   "id": "184b2cc2",
   "metadata": {},
   "source": [
    "Fitting data to our models for training"
   ]
  },
  {
   "cell_type": "code",
   "execution_count": 297,
   "id": "f36a50ce",
   "metadata": {},
   "outputs": [
    {
     "name": "stdout",
     "output_type": "stream",
     "text": [
      "Training model: Logistic Regression\n",
      "Logistic Regression Score: 0.9911\n",
      "\n",
      "Training model: Naive Bayes\n",
      "Naive Bayes Score: 0.9452\n",
      "\n",
      "Training model: SVM\n",
      "SVM Score: 0.9955\n",
      "\n",
      "Training model: Random Forest\n",
      "Random Forest Score: 0.9978\n",
      "\n"
     ]
    }
   ],
   "source": [
    "for name, model in models.items():\n",
    "\n",
    "    print(f\"Training model: {name}\")\n",
    "\n",
    "    # Fit the model on the training data\n",
    "    model.fit(X_train_vector, y_train)\n",
    "    \n",
    "    # Evaluate the model on the test data\n",
    "    model_score = model.score(X_test_vector, y_test)\n",
    "    \n",
    "    print(f\"{name} Score: {model_score:.4f}\\n\")"
   ]
  },
  {
   "cell_type": "markdown",
   "id": "e8b8c448",
   "metadata": {},
   "source": [
    "# V. Evaluation"
   ]
  },
  {
   "cell_type": "code",
   "execution_count": 298,
   "id": "5cf96a1d",
   "metadata": {},
   "outputs": [],
   "source": [
    "# import relevant libraries for evaluation metrics\n",
    "from sklearn.metrics import accuracy_score, classification_report, confusion_matrix, ConfusionMatrixDisplay"
   ]
  },
  {
   "cell_type": "code",
   "execution_count": 299,
   "id": "a362561a",
   "metadata": {},
   "outputs": [],
   "source": [
    "results = []"
   ]
  },
  {
   "cell_type": "code",
   "execution_count": 300,
   "id": "54b709c5",
   "metadata": {},
   "outputs": [
    {
     "name": "stdout",
     "output_type": "stream",
     "text": [
      "Training model: Logistic Regression\n",
      "Accuracy of Logistic Regression: 0.9911 \n",
      "\n",
      "              precision    recall  f1-score   support\n",
      "\n",
      "        Fake       0.99      0.99      0.99      4696\n",
      "        Real       0.99      0.99      0.99      4284\n",
      "\n",
      "    accuracy                           0.99      8980\n",
      "   macro avg       0.99      0.99      0.99      8980\n",
      "weighted avg       0.99      0.99      0.99      8980\n",
      "\n",
      "\n",
      "Confusion Matrix just before plotting:\n",
      "[[4652   44]\n",
      " [  36 4248]]\n",
      "Shape of cm: (2, 2)\n",
      "Type of cm: <class 'numpy.ndarray'>\n"
     ]
    },
    {
     "data": {
      "image/png": "[encoded data removed]",
      "text/plain": [
       "<Figure size 500x400 with 2 Axes>"
      ]
     },
     "metadata": {},
     "output_type": "display_data"
    },
    {
     "name": "stdout",
     "output_type": "stream",
     "text": [
      "Training model: Naive Bayes\n",
      "Accuracy of Naive Bayes: 0.9452 \n",
      "\n",
      "              precision    recall  f1-score   support\n",
      "\n",
      "        Fake       0.95      0.95      0.95      4696\n",
      "        Real       0.94      0.94      0.94      4284\n",
      "\n",
      "    accuracy                           0.95      8980\n",
      "   macro avg       0.95      0.95      0.95      8980\n",
      "weighted avg       0.95      0.95      0.95      8980\n",
      "\n",
      "\n",
      "Confusion Matrix just before plotting:\n",
      "[[4458  238]\n",
      " [ 254 4030]]\n",
      "Shape of cm: (2, 2)\n",
      "Type of cm: <class 'numpy.ndarray'>\n"
     ]
    },
    {
     "data": {
      "image/png": "[encoded data removed]",
      "text/plain": [
       "<Figure size 500x400 with 2 Axes>"
      ]
     },
     "metadata": {},
     "output_type": "display_data"
    },
    {
     "name": "stdout",
     "output_type": "stream",
     "text": [
      "Training model: SVM\n",
      "Accuracy of SVM: 0.9955 \n",
      "\n",
      "              precision    recall  f1-score   support\n",
      "\n",
      "        Fake       1.00      0.99      1.00      4696\n",
      "        Real       0.99      1.00      1.00      4284\n",
      "\n",
      "    accuracy                           1.00      8980\n",
      "   macro avg       1.00      1.00      1.00      8980\n",
      "weighted avg       1.00      1.00      1.00      8980\n",
      "\n",
      "\n",
      "Confusion Matrix just before plotting:\n",
      "[[4672   24]\n",
      " [  16 4268]]\n",
      "Shape of cm: (2, 2)\n",
      "Type of cm: <class 'numpy.ndarray'>\n"
     ]
    },
    {
     "data": {
      "image/png": "[encoded data removed]",
      "text/plain": [
       "<Figure size 500x400 with 2 Axes>"
      ]
     },
     "metadata": {},
     "output_type": "display_data"
    },
    {
     "name": "stdout",
     "output_type": "stream",
     "text": [
      "Training model: Random Forest\n",
      "Accuracy of Random Forest: 0.9978 \n",
      "\n",
      "              precision    recall  f1-score   support\n",
      "\n",
      "        Fake       1.00      1.00      1.00      4696\n",
      "        Real       1.00      1.00      1.00      4284\n",
      "\n",
      "    accuracy                           1.00      8980\n",
      "   macro avg       1.00      1.00      1.00      8980\n",
      "weighted avg       1.00      1.00      1.00      8980\n",
      "\n",
      "\n",
      "Confusion Matrix just before plotting:\n",
      "[[4682   14]\n",
      " [   6 4278]]\n",
      "Shape of cm: (2, 2)\n",
      "Type of cm: <class 'numpy.ndarray'>\n"
     ]
    },
    {
     "data": {
      "image/png": "[encoded data removed]",
      "text/plain": [
       "<Figure size 500x400 with 2 Axes>"
      ]
     },
     "metadata": {},
     "output_type": "display_data"
    }
   ],
   "source": [
    "for name, model in models.items():\n",
    "\n",
    "    print(f\"Training model: {name}\")\n",
    "\n",
    "    # Fit the model on the training data\n",
    "    model.fit(X_train_vector, y_train)\n",
    "\n",
    "    # Evaluate the model on the test data\n",
    "    model_score = model.score(X_test_vector, y_test)\n",
    "\n",
    "    # Make predictions\n",
    "    y_pred = model.predict(X_test_vector)\n",
    "    \n",
    "    # Calculate accuracy\n",
    "    acc = accuracy_score(y_test, y_pred)\n",
    "    print(f\"Accuracy of {name}: {acc:.4f} \\n\")\n",
    "\n",
    "    # Store result\n",
    "    results.append((name, acc))\n",
    "\n",
    "    # Print classification report\n",
    "    print(classification_report(y_test, y_pred, target_names=[\"Fake\", \"Real\"]))\n",
    "\n",
    "    \n",
    "    cm = confusion_matrix(y_test, y_pred)\n",
    "\n",
    "    # --- Add this for debugging ---\n",
    "    print(\"\\nConfusion Matrix just before plotting:\")\n",
    "    print(cm) # Calculate the confusion matrix\n",
    "    print(\"Shape of cm:\", cm.shape)\n",
    "    print(\"Type of cm:\", type(cm))\n",
    "    # --- End of debugging block ---\n",
    "\n",
    "    # Visualize your confusion matrix\n",
    "    # Create a new figure for each plot\n",
    "    plt.figure(figsize=(5, 4)) # You can adjust the figure size as needed\n",
    "    disp = ConfusionMatrixDisplay(confusion_matrix=cm, display_labels=[\"Fake\", \"Real\"]) # Use your actual class labels if different\n",
    "    disp.plot(cmap='Blues', ax=plt.gca()) # Pass the current axes to plot on\n",
    "    plt.title(f\"Confusion Matrix - {name}\")\n",
    "    plt.show() # This line is crucial to display the plot immediately\n",
    "        "
   ]
  }
 ],
 "metadata": {
  "kernelspec": {
   "display_name": "base",
   "language": "python",
   "name": "python3"
  },
  "language_info": {
   "codemirror_mode": {
    "name": "ipython",
    "version": 3
   },
   "file_extension": ".py",
   "mimetype": "text/x-python",
   "name": "python",
   "nbconvert_exporter": "python",
   "pygments_lexer": "ipython3",
   "version": "3.11.7"
  }
 },
 "nbformat": 4,
 "nbformat_minor": 5
}
